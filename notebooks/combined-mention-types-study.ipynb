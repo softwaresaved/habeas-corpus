{
 "cells": [
  {
   "cell_type": "markdown",
   "id": "bcb3e5ba",
   "metadata": {},
   "source": [
    "# Software Mentions mention type comparison\n",
    "\n",
    "## Comparison of CSM and CZI mention types after Howison & Bullard (2015) with Howison & Bullard\n",
    "\n",
    "The mention types are those used in Howison & Bullard 2015 (doi:10.1002/asi.23538).\n",
    "We did not use the following annotations:\n",
    "\n",
    "- *Cite to users manual*\n",
    "- *Not even name mentioned*"
   ]
  },
  {
   "cell_type": "code",
   "execution_count": 1,
   "id": "dd566b3d",
   "metadata": {},
   "outputs": [
    {
     "name": "stdout",
     "output_type": "stream",
     "text": [
      "60\n",
      "     CSM\n",
      "NAM   20\n",
      "PUB   20\n",
      "INS   11\n",
      "URL   11\n",
      "PRO    4\n",
      "     CSM\n",
      "NAM   20\n",
      "PUB   20\n",
      "INS   11\n",
      "URL   11\n",
      "PRO    4\n"
     ]
    },
    {
     "data": {
      "text/plain": [
       "{'NAM': 20, 'PUB': 20, 'INS': 11, 'URL': 11, 'PRO': 4, 'MAN': 0}"
      ]
     },
     "execution_count": 1,
     "metadata": {},
     "output_type": "execute_result"
    }
   ],
   "source": [
    "import pandas as pd\n",
    "\n",
    "# Read the dataset\n",
    "df = pd.read_csv(r'../data/access_study/CSM_sampled_mention_access.csv', encoding='unicode_escape', engine='python', index_col=False).fillna(0)\n",
    "\n",
    "# Use only those mentions with a publication year > 2015\n",
    "df = df[df['year'] > 2015]\n",
    "\n",
    "# df = pd.read_csv(r'../data/access_study/CSM_sampled_mention_access.csv', encoding='unicode_escape', engine='python', index_col=False).fillna(0)\n",
    "# Get the raw annotations for mention type\n",
    "raw_types = df['Mention Type']\n",
    "\n",
    "# Have a peep at the mention counts\n",
    "mentions_total = len(raw_types)\n",
    "print(mentions_total)\n",
    "\n",
    "# Build a list of single types, i.e., split and strip comma-separated values\n",
    "types = []\n",
    "for separated in raw_types:\n",
    "    vals = separated.split(',')\n",
    "    vals = [v.strip() for v in vals]\n",
    "    types.extend(vals)\n",
    "# Create a dataframe for just the single types, sorted alphabetically\n",
    "type_df = pd.DataFrame(data=types, columns=['CSM']).sort_values(by='CSM')\n",
    "# Create a new dataframe including the counts for the single types\n",
    "counts_df = pd.DataFrame(type_df['CSM'].value_counts())\n",
    "# counts_df.rename(columns = {'Type':'CSM'}, inplace=True)\n",
    "# Insert the actual types, which are the index right now, into its own column\n",
    "print(counts_df)\n",
    "# counts_df.insert(0, 'Type',counts_df.index)\n",
    "\n",
    "# counts_df = counts_df.reindex(['PUB', 'MAN', 'PRO', 'INS', 'URL', 'NAM'])\n",
    "csm_mentions = counts_df.to_dict()\n",
    "print(counts_df)\n",
    "csm_mentions = csm_mentions['CSM']\n",
    "csm_mentions['MAN'] = 0\n",
    "csm_mentions\n"
   ]
  },
  {
   "cell_type": "code",
   "execution_count": 2,
   "id": "121d68a0",
   "metadata": {},
   "outputs": [
    {
     "name": "stdout",
     "output_type": "stream",
     "text": [
      "100\n",
      "63\n",
      "63\n"
     ]
    },
    {
     "data": {
      "text/html": [
       "<div>\n",
       "<style scoped>\n",
       "    .dataframe tbody tr th:only-of-type {\n",
       "        vertical-align: middle;\n",
       "    }\n",
       "\n",
       "    .dataframe tbody tr th {\n",
       "        vertical-align: top;\n",
       "    }\n",
       "\n",
       "    .dataframe thead th {\n",
       "        text-align: right;\n",
       "    }\n",
       "</style>\n",
       "<table border=\"1\" class=\"dataframe\">\n",
       "  <thead>\n",
       "    <tr style=\"text-align: right;\">\n",
       "      <th></th>\n",
       "      <th>Type</th>\n",
       "      <th>CZI</th>\n",
       "    </tr>\n",
       "  </thead>\n",
       "  <tbody>\n",
       "    <tr>\n",
       "      <th>PUB</th>\n",
       "      <td>PUB</td>\n",
       "      <td>19</td>\n",
       "    </tr>\n",
       "    <tr>\n",
       "      <th>MAN</th>\n",
       "      <td>MAN</td>\n",
       "      <td>1</td>\n",
       "    </tr>\n",
       "    <tr>\n",
       "      <th>PRO</th>\n",
       "      <td>PRO</td>\n",
       "      <td>3</td>\n",
       "    </tr>\n",
       "    <tr>\n",
       "      <th>INS</th>\n",
       "      <td>INS</td>\n",
       "      <td>4</td>\n",
       "    </tr>\n",
       "    <tr>\n",
       "      <th>URL</th>\n",
       "      <td>URL</td>\n",
       "      <td>4</td>\n",
       "    </tr>\n",
       "    <tr>\n",
       "      <th>NAM</th>\n",
       "      <td>NAM</td>\n",
       "      <td>32</td>\n",
       "    </tr>\n",
       "  </tbody>\n",
       "</table>\n",
       "</div>"
      ],
      "text/plain": [
       "    Type  CZI\n",
       "PUB  PUB   19\n",
       "MAN  MAN    1\n",
       "PRO  PRO    3\n",
       "INS  INS    4\n",
       "URL  URL    4\n",
       "NAM  NAM   32"
      ]
     },
     "execution_count": 2,
     "metadata": {},
     "output_type": "execute_result"
    }
   ],
   "source": [
    "import pandas as pd\n",
    "\n",
    "# Read the dataset\n",
    "df_czi = pd.read_csv(r'../data/czi-software-mentions/sample_1000_annotated_100_licenses.csv', encoding='unicode_escape', engine='python', index_col=False).fillna(0)\n",
    "print(df_czi.index.size)\n",
    "# Use only those mentions with a publication year > 2015\n",
    "df_czi = df_czi[df_czi['pubdate'] > 2015]\n",
    "print(df_czi.index.size)\n",
    "\n",
    "# Get the raw annotations for mention type\n",
    "raw_types = df_czi['MAIN']\n",
    "\n",
    "# Have a peep at the mention counts\n",
    "mentions_total_czi = len(raw_types)\n",
    "print(mentions_total_czi)\n",
    "\n",
    "# Build a list of single types, i.e., split and strip comma-separated values\n",
    "types = []\n",
    "for separated in raw_types:\n",
    "    vals = separated.split(',')\n",
    "    vals = [v.strip() for v in vals]\n",
    "    types.extend(vals)\n",
    "# Create a dataframe for just the single types, sorted alphabetically\n",
    "type_df_czi = pd.DataFrame(data=types, columns=['Type']).sort_values(by='Type')\n",
    "# Create a new dataframe including the counts for the single types\n",
    "counts_df_czi = pd.DataFrame(type_df_czi['Type'].value_counts())\n",
    "counts_df_czi.rename(columns = {'Type':'CZI'}, inplace=True)\n",
    "# Insert the actual types, which are the index right now, into its own column\n",
    "counts_df_czi.insert(0, 'Type',counts_df_czi.index)\n",
    "counts_df_czi = counts_df_czi.reindex(['PUB', 'MAN', 'PRO', 'INS', 'URL', 'NAM'])\n",
    "counts_df_czi\n"
   ]
  },
  {
   "cell_type": "markdown",
   "id": "3b650163",
   "metadata": {},
   "source": [
    "Add the data from Howison & Bullard 2005, Table 1."
   ]
  },
  {
   "cell_type": "code",
   "execution_count": 3,
   "id": "e2c8878c",
   "metadata": {},
   "outputs": [
    {
     "data": {
      "text/plain": [
       "{'PUB': 105, 'MAN': 6, 'PRO': 15, 'INS': 53, 'URL': 13, 'NAM': 90}"
      ]
     },
     "execution_count": 3,
     "metadata": {},
     "output_type": "execute_result"
    }
   ],
   "source": [
    "hb_mentions = {\n",
    "    'PUB': 105,\n",
    "    'MAN': 6, # Citing user manual\n",
    "    'PRO': 15,\n",
    "    'INS': 53,\n",
    "    'URL': 13,\n",
    "    'NAM': 90,\n",
    "    'NEN': 4 # Not even name mentioned\n",
    "}\n",
    "\n",
    "# We have no evidence for NEN in our samples, so drop these from the H&B data\n",
    "del hb_mentions['NEN']\n",
    "\n",
    "hb_mentions"
   ]
  },
  {
   "cell_type": "markdown",
   "id": "fcd968f3",
   "metadata": {},
   "source": [
    "Add the Howison & Bullard data to the dataframe."
   ]
  },
  {
   "cell_type": "code",
   "execution_count": 4,
   "id": "7f615ea6",
   "metadata": {},
   "outputs": [
    {
     "name": "stdout",
     "output_type": "stream",
     "text": [
      "No. of mentions in CSM sample: 60\n",
      "No. of mentions in CZI sample: 63\n",
      "No. of mentions in Howison & Bullard 2005 data: 282\n"
     ]
    }
   ],
   "source": [
    "# Our no. of mentions\n",
    "print('No. of mentions in CSM sample: ' + str(mentions_total))\n",
    "print('No. of mentions in CZI sample: ' + str(mentions_total_czi))\n",
    "\n",
    "# H & B number of mentions\n",
    "hb_mentions_total = sum(hb_mentions.values())\n",
    "print('No. of mentions in Howison & Bullard 2005 data: ' + str(hb_mentions_total))\n",
    "\n",
    "# Add data to dataframe\n",
    "counts_df_czi['hb'] = counts_df_czi['Type'].map(hb_mentions)\n",
    "# counts_df['CZI'] = counts_df['Type'].map(czi_mentions)\n",
    "counts_df_czi['CSM'] = counts_df_czi['Type'].map(csm_mentions)\n",
    "counts_df = counts_df_czi.copy(deep=True)"
   ]
  },
  {
   "cell_type": "markdown",
   "id": "3585fd78",
   "metadata": {},
   "source": [
    "Calculate percentages for both datasets, and add respective columns to the dataframe."
   ]
  },
  {
   "cell_type": "code",
   "execution_count": 5,
   "id": "0d1dc9be",
   "metadata": {},
   "outputs": [
    {
     "data": {
      "text/html": [
       "<div>\n",
       "<style scoped>\n",
       "    .dataframe tbody tr th:only-of-type {\n",
       "        vertical-align: middle;\n",
       "    }\n",
       "\n",
       "    .dataframe tbody tr th {\n",
       "        vertical-align: top;\n",
       "    }\n",
       "\n",
       "    .dataframe thead th {\n",
       "        text-align: right;\n",
       "    }\n",
       "</style>\n",
       "<table border=\"1\" class=\"dataframe\">\n",
       "  <thead>\n",
       "    <tr style=\"text-align: right;\">\n",
       "      <th></th>\n",
       "      <th>Type</th>\n",
       "      <th>CZI</th>\n",
       "      <th>%CSM</th>\n",
       "      <th>%CZI</th>\n",
       "      <th>%hb</th>\n",
       "      <th>hb</th>\n",
       "      <th>CSM</th>\n",
       "    </tr>\n",
       "  </thead>\n",
       "  <tbody>\n",
       "    <tr>\n",
       "      <th>PUB</th>\n",
       "      <td>PUB</td>\n",
       "      <td>19</td>\n",
       "      <td>30.3</td>\n",
       "      <td>30.2</td>\n",
       "      <td>37.2</td>\n",
       "      <td>105</td>\n",
       "      <td>20</td>\n",
       "    </tr>\n",
       "    <tr>\n",
       "      <th>MAN</th>\n",
       "      <td>MAN</td>\n",
       "      <td>1</td>\n",
       "      <td>0.0</td>\n",
       "      <td>1.6</td>\n",
       "      <td>2.1</td>\n",
       "      <td>6</td>\n",
       "      <td>0</td>\n",
       "    </tr>\n",
       "    <tr>\n",
       "      <th>PRO</th>\n",
       "      <td>PRO</td>\n",
       "      <td>3</td>\n",
       "      <td>6.1</td>\n",
       "      <td>4.8</td>\n",
       "      <td>5.3</td>\n",
       "      <td>15</td>\n",
       "      <td>4</td>\n",
       "    </tr>\n",
       "    <tr>\n",
       "      <th>INS</th>\n",
       "      <td>INS</td>\n",
       "      <td>4</td>\n",
       "      <td>16.7</td>\n",
       "      <td>6.3</td>\n",
       "      <td>18.8</td>\n",
       "      <td>53</td>\n",
       "      <td>11</td>\n",
       "    </tr>\n",
       "    <tr>\n",
       "      <th>URL</th>\n",
       "      <td>URL</td>\n",
       "      <td>4</td>\n",
       "      <td>16.7</td>\n",
       "      <td>6.3</td>\n",
       "      <td>4.6</td>\n",
       "      <td>13</td>\n",
       "      <td>11</td>\n",
       "    </tr>\n",
       "    <tr>\n",
       "      <th>NAM</th>\n",
       "      <td>NAM</td>\n",
       "      <td>32</td>\n",
       "      <td>30.3</td>\n",
       "      <td>50.8</td>\n",
       "      <td>31.9</td>\n",
       "      <td>90</td>\n",
       "      <td>20</td>\n",
       "    </tr>\n",
       "  </tbody>\n",
       "</table>\n",
       "</div>"
      ],
      "text/plain": [
       "    Type  CZI  %CSM  %CZI   %hb   hb  CSM\n",
       "PUB  PUB   19  30.3  30.2  37.2  105   20\n",
       "MAN  MAN    1   0.0   1.6   2.1    6    0\n",
       "PRO  PRO    3   6.1   4.8   5.3   15    4\n",
       "INS  INS    4  16.7   6.3  18.8   53   11\n",
       "URL  URL    4  16.7   6.3   4.6   13   11\n",
       "NAM  NAM   32  30.3  50.8  31.9   90   20"
      ]
     },
     "execution_count": 5,
     "metadata": {},
     "output_type": "execute_result"
    }
   ],
   "source": [
    "counts_df. insert(2, '%CZI', counts_df['CZI']/counts_df['CZI'].sum()*100)\n",
    "counts_df. insert(2, '%CSM', counts_df['CSM']/counts_df['CSM'].sum()*100)\n",
    "counts_df. insert(4, '%hb', counts_df['hb']/counts_df['hb'].sum()*100)\n",
    "counts_df['%CSM'] = counts_df['%CSM'].round(decimals = 1)\n",
    "counts_df['%CZI'] = counts_df['%CZI'].round(decimals = 1)\n",
    "counts_df['%hb'] = counts_df['%hb'].round(decimals = 1)\n",
    "counts_df"
   ]
  },
  {
   "cell_type": "markdown",
   "id": "61ce0946",
   "metadata": {},
   "source": [
    "Transpose the dataframe and print it as a LaTeX table."
   ]
  },
  {
   "cell_type": "code",
   "execution_count": 6,
   "id": "6ce998b5",
   "metadata": {},
   "outputs": [
    {
     "name": "stdout",
     "output_type": "stream",
     "text": [
      "\\begin{tabular}{lllllll}\n",
      "\\toprule\n",
      "{} &   PUB &  MAN &  PRO &   INS &   URL &   NAM \\\\\n",
      "\\midrule\n",
      "Type &   PUB &  MAN &  PRO &   INS &   URL &   NAM \\\\\n",
      "CZI  &    19 &    1 &    3 &     4 &     4 &    32 \\\\\n",
      "\\%CSM &  30.3 &  0.0 &  6.1 &  16.7 &  16.7 &  30.3 \\\\\n",
      "\\%CZI &  30.2 &  1.6 &  4.8 &   6.3 &   6.3 &  50.8 \\\\\n",
      "\\%hb  &  37.2 &  2.1 &  5.3 &  18.8 &   4.6 &  31.9 \\\\\n",
      "hb   &   105 &    6 &   15 &    53 &    13 &    90 \\\\\n",
      "CSM  &    20 &    0 &    4 &    11 &    11 &    20 \\\\\n",
      "\\bottomrule\n",
      "\\end{tabular}\n",
      "\n"
     ]
    },
    {
     "name": "stderr",
     "output_type": "stream",
     "text": [
      "/tmp/ipykernel_460/3789131401.py:2: FutureWarning: In future versions `DataFrame.to_latex` is expected to utilise the base implementation of `Styler.to_latex` for formatting and rendering. The arguments signature may therefore change. It is recommended instead to use `DataFrame.style.to_latex` which also contains additional functionality.\n",
      "  print(df_transposed.to_latex())\n"
     ]
    },
    {
     "data": {
      "text/html": [
       "<div>\n",
       "<style scoped>\n",
       "    .dataframe tbody tr th:only-of-type {\n",
       "        vertical-align: middle;\n",
       "    }\n",
       "\n",
       "    .dataframe tbody tr th {\n",
       "        vertical-align: top;\n",
       "    }\n",
       "\n",
       "    .dataframe thead th {\n",
       "        text-align: right;\n",
       "    }\n",
       "</style>\n",
       "<table border=\"1\" class=\"dataframe\">\n",
       "  <thead>\n",
       "    <tr style=\"text-align: right;\">\n",
       "      <th></th>\n",
       "      <th>PUB</th>\n",
       "      <th>MAN</th>\n",
       "      <th>PRO</th>\n",
       "      <th>INS</th>\n",
       "      <th>URL</th>\n",
       "      <th>NAM</th>\n",
       "    </tr>\n",
       "  </thead>\n",
       "  <tbody>\n",
       "    <tr>\n",
       "      <th>Type</th>\n",
       "      <td>PUB</td>\n",
       "      <td>MAN</td>\n",
       "      <td>PRO</td>\n",
       "      <td>INS</td>\n",
       "      <td>URL</td>\n",
       "      <td>NAM</td>\n",
       "    </tr>\n",
       "    <tr>\n",
       "      <th>CZI</th>\n",
       "      <td>19</td>\n",
       "      <td>1</td>\n",
       "      <td>3</td>\n",
       "      <td>4</td>\n",
       "      <td>4</td>\n",
       "      <td>32</td>\n",
       "    </tr>\n",
       "    <tr>\n",
       "      <th>%CSM</th>\n",
       "      <td>30.3</td>\n",
       "      <td>0.0</td>\n",
       "      <td>6.1</td>\n",
       "      <td>16.7</td>\n",
       "      <td>16.7</td>\n",
       "      <td>30.3</td>\n",
       "    </tr>\n",
       "    <tr>\n",
       "      <th>%CZI</th>\n",
       "      <td>30.2</td>\n",
       "      <td>1.6</td>\n",
       "      <td>4.8</td>\n",
       "      <td>6.3</td>\n",
       "      <td>6.3</td>\n",
       "      <td>50.8</td>\n",
       "    </tr>\n",
       "    <tr>\n",
       "      <th>%hb</th>\n",
       "      <td>37.2</td>\n",
       "      <td>2.1</td>\n",
       "      <td>5.3</td>\n",
       "      <td>18.8</td>\n",
       "      <td>4.6</td>\n",
       "      <td>31.9</td>\n",
       "    </tr>\n",
       "    <tr>\n",
       "      <th>hb</th>\n",
       "      <td>105</td>\n",
       "      <td>6</td>\n",
       "      <td>15</td>\n",
       "      <td>53</td>\n",
       "      <td>13</td>\n",
       "      <td>90</td>\n",
       "    </tr>\n",
       "    <tr>\n",
       "      <th>CSM</th>\n",
       "      <td>20</td>\n",
       "      <td>0</td>\n",
       "      <td>4</td>\n",
       "      <td>11</td>\n",
       "      <td>11</td>\n",
       "      <td>20</td>\n",
       "    </tr>\n",
       "  </tbody>\n",
       "</table>\n",
       "</div>"
      ],
      "text/plain": [
       "       PUB  MAN  PRO   INS   URL   NAM\n",
       "Type   PUB  MAN  PRO   INS   URL   NAM\n",
       "CZI     19    1    3     4     4    32\n",
       "%CSM  30.3  0.0  6.1  16.7  16.7  30.3\n",
       "%CZI  30.2  1.6  4.8   6.3   6.3  50.8\n",
       "%hb   37.2  2.1  5.3  18.8   4.6  31.9\n",
       "hb     105    6   15    53    13    90\n",
       "CSM     20    0    4    11    11    20"
      ]
     },
     "execution_count": 6,
     "metadata": {},
     "output_type": "execute_result"
    }
   ],
   "source": [
    "df_transposed = counts_df.transpose()\n",
    "print(df_transposed.to_latex())\n",
    "df_transposed"
   ]
  },
  {
   "cell_type": "markdown",
   "id": "56b117e8",
   "metadata": {},
   "source": [
    "Create a horizontal stacked bar plot to compare the mention types across the two datasets."
   ]
  },
  {
   "cell_type": "code",
   "execution_count": 7,
   "id": "f34cd991",
   "metadata": {},
   "outputs": [
    {
     "name": "stdout",
     "output_type": "stream",
     "text": [
      "\\begin{tabular}{lllllll}\n",
      "\\toprule\n",
      "{} &   PUB &  MAN &  PRO &   INS &   URL &   NAM \\\\\n",
      "\\midrule\n",
      "Totals (CZI sample)              &    19 &    1 &    3 &     4 &     4 &    32 \\\\\n",
      "\\% (CSM sample)                   &  30.3 &  0.0 &  6.1 &  16.7 &  16.7 &  30.3 \\\\\n",
      "\\% (CZI sample)                   &  30.2 &  1.6 &  4.8 &   6.3 &   6.3 &  50.8 \\\\\n",
      "\\% (Howison \\& Bullard (2015))     &  37.2 &  2.1 &  5.3 &  18.8 &   4.6 &  31.9 \\\\\n",
      "Totals (Howison \\& Bullard(2015)) &   105 &    6 &   15 &    53 &    13 &    90 \\\\\n",
      "Totals (CSM sample)              &    20 &    0 &    4 &    11 &    11 &    20 \\\\\n",
      "\\bottomrule\n",
      "\\end{tabular}\n",
      "\n"
     ]
    },
    {
     "name": "stderr",
     "output_type": "stream",
     "text": [
      "/tmp/ipykernel_460/2624808144.py:9: FutureWarning: In future versions `DataFrame.to_latex` is expected to utilise the base implementation of `Styler.to_latex` for formatting and rendering. The arguments signature may therefore change. It is recommended instead to use `DataFrame.style.to_latex` which also contains additional functionality.\n",
      "  print(tab_df.to_latex())\n"
     ]
    },
    {
     "data": {
      "image/png": "[encoded data removed]",
      "text/plain": [
       "<Figure size 800x300 with 1 Axes>"
      ]
     },
     "metadata": {},
     "output_type": "display_data"
    }
   ],
   "source": [
    "import matplotlib.pyplot as plt\n",
    "\n",
    "# Transpose dataframe\n",
    "types_df = counts_df.transpose()\n",
    "\n",
    "# Output table first\n",
    "tab_df = types_df.drop(['Type'], axis=0)\n",
    "tab_df = tab_df.rename(index={'CZI': 'Totals (CZI sample)','CSM': 'Totals (CSM sample)', 'hb': 'Totals (Howison & Bullard(2015))', '%CZI': '% (CZI sample)','%CSM': '% (CSM sample)', '%hb': '% (Howison & Bullard (2015))'})\n",
    "print(tab_df.to_latex())\n",
    "\n",
    "# Drop unneeded data\n",
    "types_df = types_df.drop(['Type', 'CZI', 'CSM', 'hb'], axis=0)\n",
    "types_df.round(1)\n",
    "\n",
    "# Rename cols\n",
    "types_df = types_df.rename(index={'%CZI': 'CZI sample', '%CSM': 'CSM sample', '%hb': 'Howison and Bullard (2015)'})\n",
    "\n",
    "# Colourblind/-friendly colours adapted from https://gist.github.com/thriveth/8560036\n",
    "my_colors = ['#4daf4a', '#f781bf', '#e41a1c', '#984ea3', '#999999', '#a65628', '#dede00']\n",
    "\n",
    "# Create the plot\n",
    "# fig, ax1 = plt.subplots(nrows = 1)\n",
    "ax = types_df.plot(kind='barh', \n",
    "                   stacked=True,\n",
    "                   figsize=(8, 3), \n",
    "                   color=my_colors)\n",
    "ax.legend(ncol=6, \n",
    "          bbox_to_anchor=(0.16, 1),\n",
    "          loc='lower left', \n",
    "          fontsize='small')\n",
    "ax.set_xlabel('% of mentions')\n",
    "\n",
    "# Add a title and rotate the x-axis labels to be horizontal\n",
    "plt.title('Comparison of mention types', y=1.2)\n",
    "plt.xticks(rotation=0, ha='center')\n",
    "plt.yticks(rotation=45)\n",
    "\n",
    "# Add value labels to bar sections\n",
    "for c in ax.containers:\n",
    "    ax.bar_label(c, label_type='center')\n",
    "    \n",
    "# Format, save, and show the plot\n",
    "plt.tight_layout()\n",
    "plt.savefig('mention-type-comparison.pgf')\n",
    "plt.show()"
   ]
  },
  {
   "cell_type": "code",
   "execution_count": 8,
   "id": "8d2b6644",
   "metadata": {},
   "outputs": [
    {
     "name": "stdout",
     "output_type": "stream",
     "text": [
      "    CZI       CSM       Howison & Bullard      \n",
      "      ∑     %   ∑     %                 ∑     %\n",
      "PUB  19  30.2  20  30.3               105  37.2\n",
      "MAN   1   1.6   0   0.0                 6   2.1\n",
      "PRO   3   4.8   4   6.1                15   5.3\n",
      "INS   4   6.3  11  16.7                53  18.8\n",
      "URL   4   6.3  11  16.7                13   4.6\n",
      "NAM  32  50.8  20  30.3                90  31.9\n",
      "\\begin{tabular}{lrrrrrr}\n",
      "\\toprule\n",
      "{} & \\multicolumn{2}{l}{CZI} & \\multicolumn{2}{l}{CSM} & \\multicolumn{2}{l}{Howison \\& Bullard} \\\\\n",
      "{} &   ∑ &     \\% &   ∑ &     \\% &                 ∑ &     \\% \\\\\n",
      "\\midrule\n",
      "PUB &  19 &  30.2 &  20 &  30.3 &               105 &  37.2 \\\\\n",
      "MAN &   1 &   1.6 &   0 &   0.0 &                 6 &   2.1 \\\\\n",
      "PRO &   3 &   4.8 &   4 &   6.1 &                15 &   5.3 \\\\\n",
      "INS &   4 &   6.3 &  11 &  16.7 &                53 &  18.8 \\\\\n",
      "URL &   4 &   6.3 &  11 &  16.7 &                13 &   4.6 \\\\\n",
      "NAM &  32 &  50.8 &  20 &  30.3 &                90 &  31.9 \\\\\n",
      "\\bottomrule\n",
      "\\end{tabular}\n",
      "\n"
     ]
    },
    {
     "name": "stderr",
     "output_type": "stream",
     "text": [
      "/tmp/ipykernel_460/744616399.py:17: FutureWarning: In future versions `DataFrame.to_latex` is expected to utilise the base implementation of `Styler.to_latex` for formatting and rendering. The arguments signature may therefore change. It is recommended instead to use `DataFrame.style.to_latex` which also contains additional functionality.\n",
      "  print(dftab.to_latex())\n"
     ]
    }
   ],
   "source": [
    "import matplotlib.pyplot as plt\n",
    "\n",
    "# Transpose dataframe\n",
    "#types_df = counts_df.transpose()\n",
    "# print(types_df)\n",
    "\n",
    "# Output table first\n",
    "dftab = counts_df.copy(deep=True)\n",
    "# dftab.drop(['Type'], inplace=True)\n",
    "\n",
    "dftab.rename(columns={'%CZI': 'CZI %', 'CZI': 'CZI ∑', 'CSM': 'CSM ∑', '%CSM': 'CSM %', 'hb': 'Howison & Bullard ∑', '%hb': 'Howison & Bullard %'}, inplace=True)\n",
    "#print(dftab)\n",
    "cols = ['CZI ∑','CZI %','CSM ∑', 'CSM %', 'Howison & Bullard ∑', 'Howison & Bullard %']\n",
    "dftab = dftab[cols]\n",
    "dftab.columns = pd.MultiIndex.from_tuples([(c[0:-2], c[-1]) for c in dftab.columns])\n",
    "print(dftab)\n",
    "print(dftab.to_latex())"
   ]
  },
  {
   "cell_type": "code",
   "execution_count": 9,
   "id": "b52e9a62",
   "metadata": {},
   "outputs": [
    {
     "name": "stdout",
     "output_type": "stream",
     "text": [
      "\\begin{tabular}{llll}\n",
      "\\toprule\n",
      "{} & Good (PUB) & Okay (PRO, URL) & Poor (INS, NAM) \\\\\n",
      "\\midrule\n",
      "CSM sample                 &       30.3 &            22.8 &            47.0 \\\\\n",
      "CZI sample                 &       30.2 &            11.1 &            57.1 \\\\\n",
      "Howison and Bullard (2015) &       37.2 &             9.9 &            50.7 \\\\\n",
      "\\bottomrule\n",
      "\\end{tabular}\n",
      "\n"
     ]
    },
    {
     "name": "stderr",
     "output_type": "stream",
     "text": [
      "/tmp/ipykernel_460/2286097516.py:17: FutureWarning: In future versions `DataFrame.to_latex` is expected to utilise the base implementation of `Styler.to_latex` for formatting and rendering. The arguments signature may therefore change. It is recommended instead to use `DataFrame.style.to_latex` which also contains additional functionality.\n",
      "  print(dfsum.to_latex())\n"
     ]
    },
    {
     "data": {
      "image/png": "[encoded data removed]",
      "text/plain": [
       "<Figure size 800x300 with 1 Axes>"
      ]
     },
     "metadata": {},
     "output_type": "display_data"
    }
   ],
   "source": [
    "# Categorize\n",
    "\n",
    "dfsum = df_transposed.copy(deep=True)\n",
    "\n",
    "dfsum[\"Good (PUB)\"] = dfsum[\"PUB\"]\n",
    "dfsum[\"Okay (PRO, URL)\"] = dfsum[\"PRO\"] + dfsum[\"URL\"]\n",
    "dfsum[\"Poor (INS, NAM)\"] = dfsum[\"INS\"] + dfsum[\"NAM\"]\n",
    "\n",
    "\n",
    "# Drop unneeded columns and rows\n",
    "dfsum.drop(columns=['PUB', 'MAN', 'PRO', 'INS', 'URL', 'NAM'], inplace=True)\n",
    "dfsum = dfsum.drop(labels=['Type', 'CZI', 'hb', 'CSM'])\n",
    "\n",
    "# Plot\n",
    "# Rename cols\n",
    "dfsum = dfsum.rename(index={'%CZI': 'CZI sample', '%CSM': 'CSM sample', '%hb': 'Howison and Bullard (2015)'})\n",
    "print(dfsum.to_latex())\n",
    "# Colourblind/-friendly colours adapted from https://gist.github.com/thriveth/8560036\n",
    "my_colors = ['#dede00', '#999999', '#377eb8']\n",
    "\n",
    "# Create the plot\n",
    "# fig, ax1 = plt.subplots(nrows = 1)\n",
    "ax = dfsum.plot(kind='barh', \n",
    "                   stacked=True,\n",
    "                   figsize=(8, 3), \n",
    "                   color=my_colors)\n",
    "ax.legend(ncol=6, \n",
    "          bbox_to_anchor=(0.16, 1),\n",
    "          loc='lower left', \n",
    "          fontsize='small')\n",
    "ax.set_xlabel('% of mentions')\n",
    "\n",
    "# Add a title and rotate the x-axis labels to be horizontal\n",
    "plt.title('Comparison of mention categories', y=1.2)\n",
    "plt.xticks(rotation=0, ha='center')\n",
    "plt.yticks(rotation=45)\n",
    "\n",
    "# Add value labels to bar sections\n",
    "for c in ax.containers:\n",
    "    ax.bar_label(c, label_type='center')\n",
    "    \n",
    "# Format, save, and show the plot\n",
    "plt.tight_layout()\n",
    "plt.savefig('mention-cat-comparison.pgf')\n",
    "plt.show()"
   ]
  },
  {
   "cell_type": "code",
   "execution_count": null,
   "id": "61b83951",
   "metadata": {},
   "outputs": [],
   "source": []
  },
  {
   "cell_type": "code",
   "execution_count": null,
   "id": "22b0edae",
   "metadata": {},
   "outputs": [],
   "source": []
  }
 ],
 "metadata": {
  "kernelspec": {
   "display_name": "Python 3 (ipykernel)",
   "language": "python",
   "name": "python3"
  },
  "language_info": {
   "codemirror_mode": {
    "name": "ipython",
    "version": 3
   },
   "file_extension": ".py",
   "mimetype": "text/x-python",
   "name": "python",
   "nbconvert_exporter": "python",
   "pygments_lexer": "ipython3",
   "version": "3.11.0rc1"
  }
 },
 "nbformat": 4,
 "nbformat_minor": 5
}
