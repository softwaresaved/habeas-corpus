{
 "cells": [
  {
   "cell_type": "code",
   "execution_count": 4,
   "id": "6bb0ecf4",
   "metadata": {},
   "outputs": [],
   "source": [
    "import numpy as np\n",
    "import pandas as pd\n",
    "import csv\n",
    "import ast\n",
    "import collections\n",
    "import matplotlib.pyplot as plt\n",
    "import random\n",
    "\n",
    "def remove_empty_spaces(dic):\n",
    "    \"\"\" Function removing an empty space at the first position of a string. \n",
    "    \"\"\"\n",
    "    for i in dic:\n",
    "        if dic[i][:1] == \" \":\n",
    "            dic[i] = dic[i].strip()\n",
    "    return dic"
   ]
  },
  {
   "cell_type": "code",
   "execution_count": 5,
   "id": "7196c636",
   "metadata": {},
   "outputs": [
    {
     "name": "stdout",
     "output_type": "stream",
     "text": [
      "558792\n"
     ]
    },
    {
     "data": {
      "image/png": "[encoded data removed]",
      "text/plain": [
       "<Figure size 640x480 with 1 Axes>"
      ]
     },
     "metadata": {},
     "output_type": "display_data"
    }
   ],
   "source": [
    "#Take a look at the data and basic cleaning\n",
    "\n",
    "CORD19_CSV = pd.read_csv('../data/cord-19/CORD19_software_mentions.csv' , converters={'software': lambda x: x[1:-1].split(',')})\n",
    "software = CORD19_CSV.software\n",
    "software = software.explode(ignore_index = True)\n",
    "software = software.str.replace('\\'', '')\n",
    "software.value_counts(dropna=False)\n",
    "software_dict = software.to_dict()\n",
    "software_dict = remove_empty_spaces(software_dict)\n",
    "software_series = pd.Series(software_dict)\n",
    "\n",
    "#This is what our data looks like on a log scale\n",
    "#Approx 100k software\n",
    "#Approx 600k mentions\n",
    "#Note around half the data has 1 citation, around 8% >10 citations, less than 1.5% have >50\n",
    "plt.hist(software_series.value_counts(),bins=1000)\n",
    "plt.yscale('log', nonpositive='clip')\n",
    "print(len(software_dict))\n"
   ]
  },
  {
   "cell_type": "code",
   "execution_count": 6,
   "id": "00a570de",
   "metadata": {},
   "outputs": [
    {
     "data": {
      "image/png": "[encoded data removed]",
      "text/plain": [
       "<Figure size 640x480 with 1 Axes>"
      ]
     },
     "metadata": {},
     "output_type": "display_data"
    }
   ],
   "source": [
    "#Take random sample of data, save as CSV and perform same data cleaning as above\n",
    "\n",
    "SAMPLE_COUNT = 1000\n",
    "\n",
    "i = 0\n",
    "with open('../data/cord-19/CORD19_software_mentions.csv', 'r') as csv_file:\n",
    "    csv_reader = csv.reader(csv_file)\n",
    "    row_count = sum(1 for row in csv_reader)\n",
    "    rand_ints = random.sample(range(1, row_count), SAMPLE_COUNT)\n",
    "    with open('output_random1000.csv', 'w') as output:\n",
    "        output_writer = csv.writer(output, delimiter=',')\n",
    "        csv_file.seek(0)\n",
    "        for row in csv_reader:\n",
    "            if i == 0 or i in rand_ints:\n",
    "                output_writer.writerow(row)\n",
    "            i += 1\n",
    "            \n",
    "CORD19_CSV = pd.read_csv('output_random1000.csv' , converters={'software': lambda x: x[1:-1].split(',')})\n",
    "software = CORD19_CSV.software\n",
    "software = software.explode(ignore_index = True)\n",
    "software = software.str.replace('\\'', '')\n",
    "software.value_counts(dropna=False)\n",
    "software_dict = software.to_dict()\n",
    "software_dict = remove_empty_spaces(software_dict)\n",
    "software_series_sample = pd.Series(software_dict)\n",
    "plt.hist(software_series_sample.value_counts(),bins=1000)\n",
    "plt.yscale('log', nonpositive='clip')"
   ]
  },
  {
   "cell_type": "code",
   "execution_count": 7,
   "id": "23f61494",
   "metadata": {},
   "outputs": [
    {
     "name": "stdout",
     "output_type": "stream",
     "text": [
      "0.003411645564316879\n"
     ]
    },
    {
     "data": {
      "text/plain": [
       "[3295.6001876475543, 26.035300595996723]"
      ]
     },
     "execution_count": 7,
     "metadata": {},
     "output_type": "execute_result"
    }
   ],
   "source": [
    "#Population is non-normal so to test variances use Levene's test \n",
    "#https://www.itl.nist.gov/div898/handbook/eda/section3/eda35a.htm\n",
    "\n",
    "from scipy.stats import levene\n",
    "stat,p=levene(software_series.value_counts(), software_series_sample.value_counts())\n",
    "print(p)\n",
    "#Actual values of variances\n",
    "[np.var(x, ddof=1) for x in [software_series.value_counts(), software_series_sample.value_counts()]]\n",
    "\n",
    "#Gives small p-values, populations don't have equal variances (unsurprisingly...)"
   ]
  },
  {
   "cell_type": "code",
   "execution_count": 10,
   "id": "869b873b",
   "metadata": {},
   "outputs": [
    {
     "data": {
      "image/png": "[encoded data removed]",
      "text/plain": [
       "<Figure size 640x480 with 1 Axes>"
      ]
     },
     "metadata": {},
     "output_type": "display_data"
    }
   ],
   "source": [
    "#Can create stratified sample, here the y data are bins to split the #citations. Visually it's not so different from the fully random sample. \n",
    "y=(np.linspace(0,0.999999999999,len(software_series.value_counts()))*1000).astype(int)\n",
    "from sklearn.model_selection import train_test_split\n",
    "X_train, X_test, y_train, y_test = train_test_split(software_series.value_counts(), y,stratify=y, test_size=1000)\n",
    "plt.hist(X_test, bins=1000)\n",
    "plt.yscale('log', nonpositive='clip')"
   ]
  },
  {
   "cell_type": "code",
   "execution_count": 11,
   "id": "d54cb488",
   "metadata": {},
   "outputs": [
    {
     "name": "stdout",
     "output_type": "stream",
     "text": [
      "0.7077717791569575\n",
      "[2.015261940359568, 1.7507547547547546]\n"
     ]
    }
   ],
   "source": [
    "#Does a sample look like the original (with actual tests as well as visually) if we exclude the top 100 cited?\n",
    "# -> Sometimes\n",
    "\n",
    "df_val_counts = pd.DataFrame(software.value_counts())\n",
    "df_top100=df_val_counts.nlargest(100,'software')\n",
    "df_without_top100=df_val_counts.nsmallest(len(df_val_counts)-100,'software')\n",
    "sample_1000=df_without_top100.sample(1000)\n",
    "\n",
    "\n",
    "from scipy.stats import levene\n",
    "stat,p=levene(df_without_top100.software, sample_1000.software)\n",
    "print(p)\n",
    "#Actual values of variances\n",
    "print([np.var(x, ddof=1) for x in [df_without_top100.software, sample_1000.software]])\n",
    "\n",
    "\n",
    "\n",
    "#Save these as our sample:\n",
    "\n",
    "sample_1000.to_csv('1000sample_without_top_100.csv',index=False)\n",
    "df_top100.to_csv('top_100.csv',index=False)\n"
   ]
  }
 ],
 "metadata": {
  "kernelspec": {
   "display_name": "Python 3 (ipykernel)",
   "language": "python",
   "name": "python3"
  },
  "language_info": {
   "codemirror_mode": {
    "name": "ipython",
    "version": 3
   },
   "file_extension": ".py",
   "mimetype": "text/x-python",
   "name": "python",
   "nbconvert_exporter": "python",
   "pygments_lexer": "ipython3",
   "version": "3.8.5"
  }
 },
 "nbformat": 4,
 "nbformat_minor": 5
}
