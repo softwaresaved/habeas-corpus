{
 "cells": [
  {
   "cell_type": "code",
   "execution_count": 1,
   "id": "1af1b852",
   "metadata": {
    "execution": {
     "iopub.execute_input": "2023-06-06T09:03:36.342857Z",
     "iopub.status.busy": "2023-06-06T09:03:36.342365Z",
     "iopub.status.idle": "2023-06-06T09:03:37.459106Z",
     "shell.execute_reply": "2023-06-06T09:03:37.458274Z"
    }
   },
   "outputs": [
    {
     "name": "stdout",
     "output_type": "stream",
     "text": [
      "Using data directory <retracted>\n"
     ]
    }
   ],
   "source": [
    "import numpy as np\n",
    "import pandas as pd\n",
    "import csv\n",
    "import matplotlib.pyplot as plt\n",
    "import random\n",
    "import urllib.request\n",
    "import os\n",
    "from dotenv import load_dotenv\n",
    "from pathlib import Path\n",
    "\n",
    "env_path = Path('.') / '.czi.env'\n",
    "load_dotenv(dotenv_path=env_path)\n",
    "\n",
    "\n",
    "# Configure the data dir path in .czi.env located in this directory\n",
    "DATA_DIR_PATH = os.environ.get(\"DATA_DIR_PATH\")\n",
    "print(f'Using data directory {DATA_DIR_PATH}')\n",
    "\n",
    "SAMPLE_1000 = 'sample_1000_counts.csv'"
   ]
  },
  {
   "cell_type": "code",
   "execution_count": 2,
   "id": "ab2ac83c",
   "metadata": {
    "execution": {
     "iopub.execute_input": "2023-06-06T09:03:37.463789Z",
     "iopub.status.busy": "2023-06-06T09:03:37.463354Z",
     "iopub.status.idle": "2023-06-06T09:03:37.468486Z",
     "shell.execute_reply": "2023-06-06T09:03:37.467852Z"
    }
   },
   "outputs": [],
   "source": [
    "# Define metadata for dataset\n",
    "\n",
    "_meta = {\n",
    "    'Unnamed: 0': 'object',\n",
    "    'Unnamed: 0.1': 'object',\n",
    "    'license': 'str',\n",
    "    'location': 'str',\n",
    "    'pmcid': 'object',\n",
    "    'pmid': 'object',\n",
    "    'doi': 'object',\n",
    "    'pubdate': 'object',\n",
    "    'source': 'object',\n",
    "    'number': 'object',\n",
    "    'text': 'str',\n",
    "    'software': 'str',\n",
    "    'software_upper': 'str',\n",
    "    'version': 'str',\n",
    "    'ID': 'str',\n",
    "    'curation_label': 'str',\n",
    "    'mention_counts': 'int64'\n",
    "}"
   ]
  },
  {
   "cell_type": "code",
   "execution_count": 3,
   "id": "d7c0dda9",
   "metadata": {
    "execution": {
     "iopub.execute_input": "2023-06-06T09:03:37.471269Z",
     "iopub.status.busy": "2023-06-06T09:03:37.471000Z",
     "iopub.status.idle": "2023-06-06T09:03:38.203492Z",
     "shell.execute_reply": "2023-06-06T09:03:38.202469Z"
    }
   },
   "outputs": [],
   "source": [
    "# Load sample as Dask dataframe\n",
    "\n",
    "import dask.dataframe as dd\n",
    "\n",
    "ddf_sample = dd.read_csv(f'{DATA_DIR_PATH}/{SAMPLE_1000}', dtype=_meta)"
   ]
  },
  {
   "cell_type": "code",
   "execution_count": 4,
   "id": "195a9c3a",
   "metadata": {
    "execution": {
     "iopub.execute_input": "2023-06-06T09:03:38.207727Z",
     "iopub.status.busy": "2023-06-06T09:03:38.207519Z",
     "iopub.status.idle": "2023-06-06T09:03:38.253924Z",
     "shell.execute_reply": "2023-06-06T09:03:38.253149Z"
    }
   },
   "outputs": [],
   "source": [
    "# Get linked datasets\n",
    "\n",
    "cran_df = dd.read_csv(f'{DATA_DIR_PATH}/linked/linked/normalized/cran_df.csv')\n",
    "pypi_df = dd.read_csv(f'{DATA_DIR_PATH}/linked/linked/normalized/pypi_df.csv')\n",
    "bioconductor_df = dd.read_csv(f'{DATA_DIR_PATH}/linked/linked/normalized/bioconductor_df.csv')\n",
    "github_df = dd.read_csv(f'{DATA_DIR_PATH}/linked/linked/normalized/github_df.csv')\n",
    "scicrunch_df = dd.read_csv(f'{DATA_DIR_PATH}/linked/linked/normalized/scicrunch_df.csv')"
   ]
  },
  {
   "cell_type": "code",
   "execution_count": 5,
   "id": "8de52917",
   "metadata": {
    "execution": {
     "iopub.execute_input": "2023-06-06T09:03:38.257594Z",
     "iopub.status.busy": "2023-06-06T09:03:38.257392Z",
     "iopub.status.idle": "2023-06-06T09:03:51.342843Z",
     "shell.execute_reply": "2023-06-06T09:03:51.341793Z"
    }
   },
   "outputs": [],
   "source": [
    "from functools import reduce\n",
    "\n",
    "id_series = ddf_sample.ID\n",
    "\n",
    "data_frames = [ddf_sample, \n",
    "               cran_df, \n",
    "               github_df, \n",
    "               pypi_df, \n",
    "               bioconductor_df, \n",
    "               scicrunch_df\n",
    "              ]\n",
    "\n",
    "pd_dfs = []\n",
    "\n",
    "for data_frame in data_frames:\n",
    "    data_frame = data_frame.compute()\n",
    "    data_frame = data_frame[data_frame['ID'].isin(id_series)]\n",
    "    pd_dfs.append(data_frame)\n",
    "    \n",
    "df_merged = reduce(lambda left, right: dd.merge(left,\n",
    "                                               right,\n",
    "                                               on=['ID'],\n",
    "                                               how='outer',\n",
    "                                               suffixes=(f'_{left.index.size + right.index.size}', f'_{right.index.size}') # f'_{left}', f'_{right}')\n",
    "                                              ), \n",
    "                   pd_dfs)\n",
    "\n",
    "df_merged = df_merged.drop_duplicates('ID')  # Linking may have introduced extra rows for the same ID\n",
    "\n",
    "annotation_columns = [\n",
    "    'MAIN','QA','QA_retrieval','preprint','software_paper','confidence','programming_language','repository_platform','discuss_in_paper','annotator','comments'\n",
    "]\n",
    "\n",
    "for new_column in annotation_columns:\n",
    "    df_merged[new_column] = \"\"\n",
    "\n",
    "df_merged.to_csv(f'{DATA_DIR_PATH}/sample_1000_with_links.csv')"
   ]
  },
  {
   "cell_type": "code",
   "execution_count": null,
   "id": "9882f39d",
   "metadata": {},
   "outputs": [],
   "source": []
  },
  {
   "cell_type": "code",
   "execution_count": null,
   "id": "3312b61e",
   "metadata": {},
   "outputs": [],
   "source": []
  }
 ],
 "metadata": {
  "kernelspec": {
   "display_name": "Python 3 (ipykernel)",
   "language": "python",
   "name": "python3"
  },
  "language_info": {
   "codemirror_mode": {
    "name": "ipython",
    "version": 3
   },
   "file_extension": ".py",
   "mimetype": "text/x-python",
   "name": "python",
   "nbconvert_exporter": "python",
   "pygments_lexer": "ipython3",
   "version": "3.11.0rc1"
  }
 },
 "nbformat": 4,
 "nbformat_minor": 5
}
